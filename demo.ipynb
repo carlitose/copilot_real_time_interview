{
 "cells": [
  {
   "cell_type": "code",
   "execution_count": 1,
   "metadata": {},
   "outputs": [
    {
     "name": "stdout",
     "output_type": "stream",
     "text": [
      "Collecting assemblyai\n",
      "  Downloading assemblyai-0.19.0-py3-none-any.whl.metadata (23 kB)\n",
      "Collecting httpx>=0.19.0 (from assemblyai)\n",
      "  Downloading httpx-0.25.1-py3-none-any.whl.metadata (7.1 kB)\n",
      "Requirement already satisfied: pydantic!=1.10.7,>=1.7.0 in /Users/carlogiuseppesergi/anaconda3/envs/interpreter/lib/python3.11/site-packages (from assemblyai) (2.4.2)\n",
      "Requirement already satisfied: typing-extensions>=3.7 in /Users/carlogiuseppesergi/anaconda3/envs/interpreter/lib/python3.11/site-packages (from assemblyai) (4.8.0)\n",
      "Requirement already satisfied: websockets>=11.0 in /Users/carlogiuseppesergi/anaconda3/envs/interpreter/lib/python3.11/site-packages (from assemblyai) (11.0.3)\n",
      "Requirement already satisfied: anyio in /Users/carlogiuseppesergi/anaconda3/envs/interpreter/lib/python3.11/site-packages (from httpx>=0.19.0->assemblyai) (3.7.1)\n",
      "Requirement already satisfied: certifi in /Users/carlogiuseppesergi/anaconda3/envs/interpreter/lib/python3.11/site-packages (from httpx>=0.19.0->assemblyai) (2023.7.22)\n",
      "Collecting httpcore (from httpx>=0.19.0->assemblyai)\n",
      "  Downloading httpcore-1.0.1-py3-none-any.whl.metadata (20 kB)\n",
      "Requirement already satisfied: idna in /Users/carlogiuseppesergi/anaconda3/envs/interpreter/lib/python3.11/site-packages (from httpx>=0.19.0->assemblyai) (3.4)\n",
      "Requirement already satisfied: sniffio in /Users/carlogiuseppesergi/anaconda3/envs/interpreter/lib/python3.11/site-packages (from httpx>=0.19.0->assemblyai) (1.3.0)\n",
      "Requirement already satisfied: annotated-types>=0.4.0 in /Users/carlogiuseppesergi/anaconda3/envs/interpreter/lib/python3.11/site-packages (from pydantic!=1.10.7,>=1.7.0->assemblyai) (0.6.0)\n",
      "Requirement already satisfied: pydantic-core==2.10.1 in /Users/carlogiuseppesergi/anaconda3/envs/interpreter/lib/python3.11/site-packages (from pydantic!=1.10.7,>=1.7.0->assemblyai) (2.10.1)\n",
      "Requirement already satisfied: h11<0.15,>=0.13 in /Users/carlogiuseppesergi/anaconda3/envs/interpreter/lib/python3.11/site-packages (from httpcore->httpx>=0.19.0->assemblyai) (0.14.0)\n",
      "Downloading assemblyai-0.19.0-py3-none-any.whl (65 kB)\n",
      "\u001b[2K   \u001b[90m━━━━━━━━━━━━━━━━━━━━━━━━━━━━━━━━━━━━━━━━\u001b[0m \u001b[32m65.7/65.7 kB\u001b[0m \u001b[31m3.5 MB/s\u001b[0m eta \u001b[36m0:00:00\u001b[0m\n",
      "\u001b[?25hDownloading httpx-0.25.1-py3-none-any.whl (75 kB)\n",
      "\u001b[2K   \u001b[90m━━━━━━━━━━━━━━━━━━━━━━━━━━━━━━━━━━━━━━━━\u001b[0m \u001b[32m75.0/75.0 kB\u001b[0m \u001b[31m4.6 MB/s\u001b[0m eta \u001b[36m0:00:00\u001b[0m\n",
      "\u001b[?25hDownloading httpcore-1.0.1-py3-none-any.whl (76 kB)\n",
      "\u001b[2K   \u001b[90m━━━━━━━━━━━━━━━━━━━━━━━━━━━━━━━━━━━━━━━━\u001b[0m \u001b[32m76.9/76.9 kB\u001b[0m \u001b[31m6.9 MB/s\u001b[0m eta \u001b[36m0:00:00\u001b[0m\n",
      "\u001b[?25hInstalling collected packages: httpcore, httpx, assemblyai\n",
      "Successfully installed assemblyai-0.19.0 httpcore-1.0.1 httpx-0.25.1\n",
      "Note: you may need to restart the kernel to use updated packages.\n"
     ]
    }
   ],
   "source": [
    "%pip install -U assemblyai \n",
    "\n"
   ]
  },
  {
   "cell_type": "code",
   "execution_count": 2,
   "metadata": {},
   "outputs": [
    {
     "name": "stdout",
     "output_type": "stream",
     "text": [
      "Collecting pyaudio\n",
      "  Using cached PyAudio-0.2.13-cp311-cp311-macosx_11_0_arm64.whl\n",
      "Installing collected packages: pyaudio\n",
      "Successfully installed pyaudio-0.2.13\n",
      "Note: you may need to restart the kernel to use updated packages.\n"
     ]
    }
   ],
   "source": [
    "%pip install pyaudio\n"
   ]
  },
  {
   "cell_type": "code",
   "execution_count": 3,
   "metadata": {},
   "outputs": [
    {
     "name": "stdout",
     "output_type": "stream",
     "text": [
      "Requirement already satisfied: assemblyai[extras] in /Users/carlogiuseppesergi/anaconda3/envs/interpreter/lib/python3.11/site-packages (0.19.0)\n",
      "Requirement already satisfied: httpx>=0.19.0 in /Users/carlogiuseppesergi/anaconda3/envs/interpreter/lib/python3.11/site-packages (from assemblyai[extras]) (0.25.1)\n",
      "Requirement already satisfied: pydantic!=1.10.7,>=1.7.0 in /Users/carlogiuseppesergi/anaconda3/envs/interpreter/lib/python3.11/site-packages (from assemblyai[extras]) (2.4.2)\n",
      "Requirement already satisfied: typing-extensions>=3.7 in /Users/carlogiuseppesergi/anaconda3/envs/interpreter/lib/python3.11/site-packages (from assemblyai[extras]) (4.8.0)\n",
      "Requirement already satisfied: websockets>=11.0 in /Users/carlogiuseppesergi/anaconda3/envs/interpreter/lib/python3.11/site-packages (from assemblyai[extras]) (11.0.3)\n",
      "Requirement already satisfied: pyaudio>=0.2.13 in /Users/carlogiuseppesergi/anaconda3/envs/interpreter/lib/python3.11/site-packages (from assemblyai[extras]) (0.2.13)\n",
      "Requirement already satisfied: anyio in /Users/carlogiuseppesergi/anaconda3/envs/interpreter/lib/python3.11/site-packages (from httpx>=0.19.0->assemblyai[extras]) (3.7.1)\n",
      "Requirement already satisfied: certifi in /Users/carlogiuseppesergi/anaconda3/envs/interpreter/lib/python3.11/site-packages (from httpx>=0.19.0->assemblyai[extras]) (2023.7.22)\n",
      "Requirement already satisfied: httpcore in /Users/carlogiuseppesergi/anaconda3/envs/interpreter/lib/python3.11/site-packages (from httpx>=0.19.0->assemblyai[extras]) (1.0.1)\n",
      "Requirement already satisfied: idna in /Users/carlogiuseppesergi/anaconda3/envs/interpreter/lib/python3.11/site-packages (from httpx>=0.19.0->assemblyai[extras]) (3.4)\n",
      "Requirement already satisfied: sniffio in /Users/carlogiuseppesergi/anaconda3/envs/interpreter/lib/python3.11/site-packages (from httpx>=0.19.0->assemblyai[extras]) (1.3.0)\n",
      "Requirement already satisfied: annotated-types>=0.4.0 in /Users/carlogiuseppesergi/anaconda3/envs/interpreter/lib/python3.11/site-packages (from pydantic!=1.10.7,>=1.7.0->assemblyai[extras]) (0.6.0)\n",
      "Requirement already satisfied: pydantic-core==2.10.1 in /Users/carlogiuseppesergi/anaconda3/envs/interpreter/lib/python3.11/site-packages (from pydantic!=1.10.7,>=1.7.0->assemblyai[extras]) (2.10.1)\n",
      "Requirement already satisfied: h11<0.15,>=0.13 in /Users/carlogiuseppesergi/anaconda3/envs/interpreter/lib/python3.11/site-packages (from httpcore->httpx>=0.19.0->assemblyai[extras]) (0.14.0)\n",
      "Note: you may need to restart the kernel to use updated packages.\n"
     ]
    }
   ],
   "source": [
    "%pip install assemblyai\\[extras\\]\n"
   ]
  },
  {
   "cell_type": "code",
   "execution_count": 4,
   "metadata": {},
   "outputs": [
    {
     "name": "stdout",
     "output_type": "stream",
     "text": [
      "Requirement already satisfied: tokenizers in /Users/carlogiuseppesergi/anaconda3/envs/interpreter/lib/python3.11/site-packages (0.14.1)\n",
      "Requirement already satisfied: huggingface_hub<0.18,>=0.16.4 in /Users/carlogiuseppesergi/anaconda3/envs/interpreter/lib/python3.11/site-packages (from tokenizers) (0.17.3)\n",
      "Requirement already satisfied: filelock in /Users/carlogiuseppesergi/anaconda3/envs/interpreter/lib/python3.11/site-packages (from huggingface_hub<0.18,>=0.16.4->tokenizers) (3.13.1)\n",
      "Requirement already satisfied: fsspec in /Users/carlogiuseppesergi/anaconda3/envs/interpreter/lib/python3.11/site-packages (from huggingface_hub<0.18,>=0.16.4->tokenizers) (2023.10.0)\n",
      "Requirement already satisfied: requests in /Users/carlogiuseppesergi/anaconda3/envs/interpreter/lib/python3.11/site-packages (from huggingface_hub<0.18,>=0.16.4->tokenizers) (2.31.0)\n",
      "Requirement already satisfied: tqdm>=4.42.1 in /Users/carlogiuseppesergi/anaconda3/envs/interpreter/lib/python3.11/site-packages (from huggingface_hub<0.18,>=0.16.4->tokenizers) (4.66.1)\n",
      "Requirement already satisfied: pyyaml>=5.1 in /Users/carlogiuseppesergi/anaconda3/envs/interpreter/lib/python3.11/site-packages (from huggingface_hub<0.18,>=0.16.4->tokenizers) (6.0.1)\n",
      "Requirement already satisfied: typing-extensions>=3.7.4.3 in /Users/carlogiuseppesergi/anaconda3/envs/interpreter/lib/python3.11/site-packages (from huggingface_hub<0.18,>=0.16.4->tokenizers) (4.8.0)\n",
      "Requirement already satisfied: packaging>=20.9 in /Users/carlogiuseppesergi/anaconda3/envs/interpreter/lib/python3.11/site-packages (from huggingface_hub<0.18,>=0.16.4->tokenizers) (23.2)\n",
      "Requirement already satisfied: charset-normalizer<4,>=2 in /Users/carlogiuseppesergi/anaconda3/envs/interpreter/lib/python3.11/site-packages (from requests->huggingface_hub<0.18,>=0.16.4->tokenizers) (3.3.2)\n",
      "Requirement already satisfied: idna<4,>=2.5 in /Users/carlogiuseppesergi/anaconda3/envs/interpreter/lib/python3.11/site-packages (from requests->huggingface_hub<0.18,>=0.16.4->tokenizers) (3.4)\n",
      "Requirement already satisfied: urllib3<3,>=1.21.1 in /Users/carlogiuseppesergi/anaconda3/envs/interpreter/lib/python3.11/site-packages (from requests->huggingface_hub<0.18,>=0.16.4->tokenizers) (1.26.18)\n",
      "Requirement already satisfied: certifi>=2017.4.17 in /Users/carlogiuseppesergi/anaconda3/envs/interpreter/lib/python3.11/site-packages (from requests->huggingface_hub<0.18,>=0.16.4->tokenizers) (2023.7.22)\n",
      "Note: you may need to restart the kernel to use updated packages.\n"
     ]
    }
   ],
   "source": [
    "%pip install tokenizers"
   ]
  },
  {
   "cell_type": "code",
   "execution_count": 5,
   "metadata": {},
   "outputs": [
    {
     "name": "stdout",
     "output_type": "stream",
     "text": [
      "Collecting langchain\n",
      "  Downloading langchain-0.0.330-py3-none-any.whl.metadata (16 kB)\n",
      "Requirement already satisfied: openai in /Users/carlogiuseppesergi/anaconda3/envs/interpreter/lib/python3.11/site-packages (0.28.1)\n",
      "Requirement already satisfied: PyYAML>=5.3 in /Users/carlogiuseppesergi/anaconda3/envs/interpreter/lib/python3.11/site-packages (from langchain) (6.0.1)\n",
      "Collecting SQLAlchemy<3,>=1.4 (from langchain)\n",
      "  Downloading SQLAlchemy-2.0.23-cp311-cp311-macosx_11_0_arm64.whl.metadata (9.6 kB)\n",
      "Requirement already satisfied: aiohttp<4.0.0,>=3.8.3 in /Users/carlogiuseppesergi/anaconda3/envs/interpreter/lib/python3.11/site-packages (from langchain) (3.8.6)\n",
      "Requirement already satisfied: anyio<4.0 in /Users/carlogiuseppesergi/anaconda3/envs/interpreter/lib/python3.11/site-packages (from langchain) (3.7.1)\n",
      "Collecting dataclasses-json<0.7,>=0.5.7 (from langchain)\n",
      "  Downloading dataclasses_json-0.6.1-py3-none-any.whl.metadata (24 kB)\n",
      "Collecting jsonpatch<2.0,>=1.33 (from langchain)\n",
      "  Downloading jsonpatch-1.33-py2.py3-none-any.whl.metadata (3.0 kB)\n",
      "Collecting langsmith<0.1.0,>=0.0.52 (from langchain)\n",
      "  Downloading langsmith-0.0.57-py3-none-any.whl.metadata (10 kB)\n",
      "Requirement already satisfied: numpy<2,>=1 in /Users/carlogiuseppesergi/anaconda3/envs/interpreter/lib/python3.11/site-packages (from langchain) (1.26.1)\n",
      "Requirement already satisfied: pydantic<3,>=1 in /Users/carlogiuseppesergi/anaconda3/envs/interpreter/lib/python3.11/site-packages (from langchain) (2.4.2)\n",
      "Requirement already satisfied: requests<3,>=2 in /Users/carlogiuseppesergi/anaconda3/envs/interpreter/lib/python3.11/site-packages (from langchain) (2.31.0)\n",
      "Requirement already satisfied: tenacity<9.0.0,>=8.1.0 in /Users/carlogiuseppesergi/anaconda3/envs/interpreter/lib/python3.11/site-packages (from langchain) (8.2.3)\n",
      "Requirement already satisfied: tqdm in /Users/carlogiuseppesergi/anaconda3/envs/interpreter/lib/python3.11/site-packages (from openai) (4.66.1)\n",
      "Requirement already satisfied: attrs>=17.3.0 in /Users/carlogiuseppesergi/anaconda3/envs/interpreter/lib/python3.11/site-packages (from aiohttp<4.0.0,>=3.8.3->langchain) (23.1.0)\n",
      "Requirement already satisfied: charset-normalizer<4.0,>=2.0 in /Users/carlogiuseppesergi/anaconda3/envs/interpreter/lib/python3.11/site-packages (from aiohttp<4.0.0,>=3.8.3->langchain) (3.3.2)\n",
      "Requirement already satisfied: multidict<7.0,>=4.5 in /Users/carlogiuseppesergi/anaconda3/envs/interpreter/lib/python3.11/site-packages (from aiohttp<4.0.0,>=3.8.3->langchain) (6.0.4)\n",
      "Requirement already satisfied: async-timeout<5.0,>=4.0.0a3 in /Users/carlogiuseppesergi/anaconda3/envs/interpreter/lib/python3.11/site-packages (from aiohttp<4.0.0,>=3.8.3->langchain) (4.0.3)\n",
      "Requirement already satisfied: yarl<2.0,>=1.0 in /Users/carlogiuseppesergi/anaconda3/envs/interpreter/lib/python3.11/site-packages (from aiohttp<4.0.0,>=3.8.3->langchain) (1.9.2)\n",
      "Requirement already satisfied: frozenlist>=1.1.1 in /Users/carlogiuseppesergi/anaconda3/envs/interpreter/lib/python3.11/site-packages (from aiohttp<4.0.0,>=3.8.3->langchain) (1.4.0)\n",
      "Requirement already satisfied: aiosignal>=1.1.2 in /Users/carlogiuseppesergi/anaconda3/envs/interpreter/lib/python3.11/site-packages (from aiohttp<4.0.0,>=3.8.3->langchain) (1.3.1)\n",
      "Requirement already satisfied: idna>=2.8 in /Users/carlogiuseppesergi/anaconda3/envs/interpreter/lib/python3.11/site-packages (from anyio<4.0->langchain) (3.4)\n",
      "Requirement already satisfied: sniffio>=1.1 in /Users/carlogiuseppesergi/anaconda3/envs/interpreter/lib/python3.11/site-packages (from anyio<4.0->langchain) (1.3.0)\n",
      "Collecting marshmallow<4.0.0,>=3.18.0 (from dataclasses-json<0.7,>=0.5.7->langchain)\n",
      "  Downloading marshmallow-3.20.1-py3-none-any.whl.metadata (7.8 kB)\n",
      "Collecting typing-inspect<1,>=0.4.0 (from dataclasses-json<0.7,>=0.5.7->langchain)\n",
      "  Downloading typing_inspect-0.9.0-py3-none-any.whl.metadata (1.5 kB)\n",
      "Collecting jsonpointer>=1.9 (from jsonpatch<2.0,>=1.33->langchain)\n",
      "  Downloading jsonpointer-2.4-py2.py3-none-any.whl.metadata (2.5 kB)\n",
      "Requirement already satisfied: annotated-types>=0.4.0 in /Users/carlogiuseppesergi/anaconda3/envs/interpreter/lib/python3.11/site-packages (from pydantic<3,>=1->langchain) (0.6.0)\n",
      "Requirement already satisfied: pydantic-core==2.10.1 in /Users/carlogiuseppesergi/anaconda3/envs/interpreter/lib/python3.11/site-packages (from pydantic<3,>=1->langchain) (2.10.1)\n",
      "Requirement already satisfied: typing-extensions>=4.6.1 in /Users/carlogiuseppesergi/anaconda3/envs/interpreter/lib/python3.11/site-packages (from pydantic<3,>=1->langchain) (4.8.0)\n",
      "Requirement already satisfied: urllib3<3,>=1.21.1 in /Users/carlogiuseppesergi/anaconda3/envs/interpreter/lib/python3.11/site-packages (from requests<3,>=2->langchain) (1.26.18)\n",
      "Requirement already satisfied: certifi>=2017.4.17 in /Users/carlogiuseppesergi/anaconda3/envs/interpreter/lib/python3.11/site-packages (from requests<3,>=2->langchain) (2023.7.22)\n",
      "Requirement already satisfied: packaging>=17.0 in /Users/carlogiuseppesergi/anaconda3/envs/interpreter/lib/python3.11/site-packages (from marshmallow<4.0.0,>=3.18.0->dataclasses-json<0.7,>=0.5.7->langchain) (23.2)\n",
      "Collecting mypy-extensions>=0.3.0 (from typing-inspect<1,>=0.4.0->dataclasses-json<0.7,>=0.5.7->langchain)\n",
      "  Downloading mypy_extensions-1.0.0-py3-none-any.whl (4.7 kB)\n",
      "Downloading langchain-0.0.330-py3-none-any.whl (2.0 MB)\n",
      "\u001b[2K   \u001b[90m━━━━━━━━━━━━━━━━━━━━━━━━━━━━━━━━━━━━━━━━\u001b[0m \u001b[32m2.0/2.0 MB\u001b[0m \u001b[31m7.2 MB/s\u001b[0m eta \u001b[36m0:00:00\u001b[0m00:01\u001b[0m00:01\u001b[0m\n",
      "\u001b[?25hDownloading dataclasses_json-0.6.1-py3-none-any.whl (27 kB)\n",
      "Downloading jsonpatch-1.33-py2.py3-none-any.whl (12 kB)\n",
      "Downloading langsmith-0.0.57-py3-none-any.whl (44 kB)\n",
      "\u001b[2K   \u001b[90m━━━━━━━━━━━━━━━━━━━━━━━━━━━━━━━━━━━━━━━━\u001b[0m \u001b[32m44.5/44.5 kB\u001b[0m \u001b[31m4.9 MB/s\u001b[0m eta \u001b[36m0:00:00\u001b[0m\n",
      "\u001b[?25hDownloading SQLAlchemy-2.0.23-cp311-cp311-macosx_11_0_arm64.whl (2.1 MB)\n",
      "\u001b[2K   \u001b[90m━━━━━━━━━━━━━━━━━━━━━━━━━━━━━━━━━━━━━━━━\u001b[0m \u001b[32m2.1/2.1 MB\u001b[0m \u001b[31m8.4 MB/s\u001b[0m eta \u001b[36m0:00:00\u001b[0ma \u001b[36m0:00:01\u001b[0m\n",
      "\u001b[?25hDownloading jsonpointer-2.4-py2.py3-none-any.whl (7.8 kB)\n",
      "Downloading marshmallow-3.20.1-py3-none-any.whl (49 kB)\n",
      "\u001b[2K   \u001b[90m━━━━━━━━━━━━━━━━━━━━━━━━━━━━━━━━━━━━━━━━\u001b[0m \u001b[32m49.4/49.4 kB\u001b[0m \u001b[31m3.9 MB/s\u001b[0m eta \u001b[36m0:00:00\u001b[0m\n",
      "\u001b[?25hDownloading typing_inspect-0.9.0-py3-none-any.whl (8.8 kB)\n",
      "Installing collected packages: SQLAlchemy, mypy-extensions, marshmallow, jsonpointer, typing-inspect, jsonpatch, langsmith, dataclasses-json, langchain\n",
      "Successfully installed SQLAlchemy-2.0.23 dataclasses-json-0.6.1 jsonpatch-1.33 jsonpointer-2.4 langchain-0.0.330 langsmith-0.0.57 marshmallow-3.20.1 mypy-extensions-1.0.0 typing-inspect-0.9.0\n",
      "Note: you may need to restart the kernel to use updated packages.\n"
     ]
    }
   ],
   "source": [
    "%pip install langchain openai\n"
   ]
  },
  {
   "cell_type": "code",
   "execution_count": 6,
   "metadata": {},
   "outputs": [
    {
     "name": "stdout",
     "output_type": "stream",
     "text": [
      "Collecting transformers\n",
      "  Downloading transformers-4.35.0-py3-none-any.whl.metadata (123 kB)\n",
      "\u001b[2K     \u001b[90m━━━━━━━━━━━━━━━━━━━━━━━━━━━━━━━━━━━━━━━\u001b[0m \u001b[32m123.1/123.1 kB\u001b[0m \u001b[31m4.6 MB/s\u001b[0m eta \u001b[36m0:00:00\u001b[0m\n",
      "\u001b[?25hRequirement already satisfied: filelock in /Users/carlogiuseppesergi/anaconda3/envs/interpreter/lib/python3.11/site-packages (from transformers) (3.13.1)\n",
      "Requirement already satisfied: huggingface-hub<1.0,>=0.16.4 in /Users/carlogiuseppesergi/anaconda3/envs/interpreter/lib/python3.11/site-packages (from transformers) (0.17.3)\n",
      "Requirement already satisfied: numpy>=1.17 in /Users/carlogiuseppesergi/anaconda3/envs/interpreter/lib/python3.11/site-packages (from transformers) (1.26.1)\n",
      "Requirement already satisfied: packaging>=20.0 in /Users/carlogiuseppesergi/anaconda3/envs/interpreter/lib/python3.11/site-packages (from transformers) (23.2)\n",
      "Requirement already satisfied: pyyaml>=5.1 in /Users/carlogiuseppesergi/anaconda3/envs/interpreter/lib/python3.11/site-packages (from transformers) (6.0.1)\n",
      "Requirement already satisfied: regex!=2019.12.17 in /Users/carlogiuseppesergi/anaconda3/envs/interpreter/lib/python3.11/site-packages (from transformers) (2023.10.3)\n",
      "Requirement already satisfied: requests in /Users/carlogiuseppesergi/anaconda3/envs/interpreter/lib/python3.11/site-packages (from transformers) (2.31.0)\n",
      "Requirement already satisfied: tokenizers<0.15,>=0.14 in /Users/carlogiuseppesergi/anaconda3/envs/interpreter/lib/python3.11/site-packages (from transformers) (0.14.1)\n",
      "Collecting safetensors>=0.3.1 (from transformers)\n",
      "  Downloading safetensors-0.4.0-cp311-cp311-macosx_11_0_arm64.whl.metadata (3.8 kB)\n",
      "Requirement already satisfied: tqdm>=4.27 in /Users/carlogiuseppesergi/anaconda3/envs/interpreter/lib/python3.11/site-packages (from transformers) (4.66.1)\n",
      "Requirement already satisfied: fsspec in /Users/carlogiuseppesergi/anaconda3/envs/interpreter/lib/python3.11/site-packages (from huggingface-hub<1.0,>=0.16.4->transformers) (2023.10.0)\n",
      "Requirement already satisfied: typing-extensions>=3.7.4.3 in /Users/carlogiuseppesergi/anaconda3/envs/interpreter/lib/python3.11/site-packages (from huggingface-hub<1.0,>=0.16.4->transformers) (4.8.0)\n",
      "Requirement already satisfied: charset-normalizer<4,>=2 in /Users/carlogiuseppesergi/anaconda3/envs/interpreter/lib/python3.11/site-packages (from requests->transformers) (3.3.2)\n",
      "Requirement already satisfied: idna<4,>=2.5 in /Users/carlogiuseppesergi/anaconda3/envs/interpreter/lib/python3.11/site-packages (from requests->transformers) (3.4)\n",
      "Requirement already satisfied: urllib3<3,>=1.21.1 in /Users/carlogiuseppesergi/anaconda3/envs/interpreter/lib/python3.11/site-packages (from requests->transformers) (1.26.18)\n",
      "Requirement already satisfied: certifi>=2017.4.17 in /Users/carlogiuseppesergi/anaconda3/envs/interpreter/lib/python3.11/site-packages (from requests->transformers) (2023.7.22)\n",
      "Downloading transformers-4.35.0-py3-none-any.whl (7.9 MB)\n",
      "\u001b[2K   \u001b[90m━━━━━━━━━━━━━━━━━━━━━━━━━━━━━━━━━━━━━━━━\u001b[0m \u001b[32m7.9/7.9 MB\u001b[0m \u001b[31m7.8 MB/s\u001b[0m eta \u001b[36m0:00:00\u001b[0m00:01\u001b[0m00:01\u001b[0m\n",
      "\u001b[?25hDownloading safetensors-0.4.0-cp311-cp311-macosx_11_0_arm64.whl (425 kB)\n",
      "\u001b[2K   \u001b[90m━━━━━━━━━━━━━━━━━━━━━━━━━━━━━━━━━━━━━━━━\u001b[0m \u001b[32m425.4/425.4 kB\u001b[0m \u001b[31m6.5 MB/s\u001b[0m eta \u001b[36m0:00:00\u001b[0ma \u001b[36m0:00:01\u001b[0m\n",
      "\u001b[?25hInstalling collected packages: safetensors, transformers\n",
      "Successfully installed safetensors-0.4.0 transformers-4.35.0\n",
      "Note: you may need to restart the kernel to use updated packages.\n"
     ]
    }
   ],
   "source": [
    "%pip install transformers"
   ]
  },
  {
   "cell_type": "code",
   "execution_count": 7,
   "metadata": {},
   "outputs": [
    {
     "name": "stdout",
     "output_type": "stream",
     "text": [
      "Collecting torch\n",
      "  Downloading torch-2.1.0-cp311-none-macosx_11_0_arm64.whl.metadata (24 kB)\n",
      "Collecting torchvision\n",
      "  Downloading torchvision-0.16.0-cp311-cp311-macosx_11_0_arm64.whl.metadata (6.6 kB)\n",
      "Collecting torchaudio\n",
      "  Downloading torchaudio-2.1.0-cp311-cp311-macosx_11_0_arm64.whl.metadata (5.7 kB)\n",
      "Requirement already satisfied: filelock in /Users/carlogiuseppesergi/anaconda3/envs/interpreter/lib/python3.11/site-packages (from torch) (3.13.1)\n",
      "Requirement already satisfied: typing-extensions in /Users/carlogiuseppesergi/anaconda3/envs/interpreter/lib/python3.11/site-packages (from torch) (4.8.0)\n",
      "Requirement already satisfied: sympy in /Users/carlogiuseppesergi/anaconda3/envs/interpreter/lib/python3.11/site-packages (from torch) (1.12)\n",
      "Collecting networkx (from torch)\n",
      "  Downloading networkx-3.2.1-py3-none-any.whl.metadata (5.2 kB)\n",
      "Requirement already satisfied: jinja2 in /Users/carlogiuseppesergi/anaconda3/envs/interpreter/lib/python3.11/site-packages (from torch) (3.1.2)\n",
      "Requirement already satisfied: fsspec in /Users/carlogiuseppesergi/anaconda3/envs/interpreter/lib/python3.11/site-packages (from torch) (2023.10.0)\n",
      "Requirement already satisfied: numpy in /Users/carlogiuseppesergi/anaconda3/envs/interpreter/lib/python3.11/site-packages (from torchvision) (1.26.1)\n",
      "Requirement already satisfied: requests in /Users/carlogiuseppesergi/anaconda3/envs/interpreter/lib/python3.11/site-packages (from torchvision) (2.31.0)\n",
      "Requirement already satisfied: pillow!=8.3.*,>=5.3.0 in /Users/carlogiuseppesergi/anaconda3/envs/interpreter/lib/python3.11/site-packages (from torchvision) (10.1.0)\n",
      "Requirement already satisfied: MarkupSafe>=2.0 in /Users/carlogiuseppesergi/anaconda3/envs/interpreter/lib/python3.11/site-packages (from jinja2->torch) (2.1.3)\n",
      "Requirement already satisfied: charset-normalizer<4,>=2 in /Users/carlogiuseppesergi/anaconda3/envs/interpreter/lib/python3.11/site-packages (from requests->torchvision) (3.3.2)\n",
      "Requirement already satisfied: idna<4,>=2.5 in /Users/carlogiuseppesergi/anaconda3/envs/interpreter/lib/python3.11/site-packages (from requests->torchvision) (3.4)\n",
      "Requirement already satisfied: urllib3<3,>=1.21.1 in /Users/carlogiuseppesergi/anaconda3/envs/interpreter/lib/python3.11/site-packages (from requests->torchvision) (1.26.18)\n",
      "Requirement already satisfied: certifi>=2017.4.17 in /Users/carlogiuseppesergi/anaconda3/envs/interpreter/lib/python3.11/site-packages (from requests->torchvision) (2023.7.22)\n",
      "Requirement already satisfied: mpmath>=0.19 in /Users/carlogiuseppesergi/anaconda3/envs/interpreter/lib/python3.11/site-packages (from sympy->torch) (1.3.0)\n",
      "Downloading torch-2.1.0-cp311-none-macosx_11_0_arm64.whl (59.6 MB)\n",
      "\u001b[2K   \u001b[90m━━━━━━━━━━━━━━━━━━━━━━━━━━━━━━━━━━━━━━━━\u001b[0m \u001b[32m59.6/59.6 MB\u001b[0m \u001b[31m5.9 MB/s\u001b[0m eta \u001b[36m0:00:00\u001b[0m00:01\u001b[0m00:01\u001b[0m\n",
      "\u001b[?25hDownloading torchvision-0.16.0-cp311-cp311-macosx_11_0_arm64.whl (1.6 MB)\n",
      "\u001b[2K   \u001b[90m━━━━━━━━━━━━━━━━━━━━━━━━━━━━━━━━━━━━━━━━\u001b[0m \u001b[32m1.6/1.6 MB\u001b[0m \u001b[31m5.9 MB/s\u001b[0m eta \u001b[36m0:00:00\u001b[0ma \u001b[36m0:00:01\u001b[0m\n",
      "\u001b[?25hDownloading torchaudio-2.1.0-cp311-cp311-macosx_11_0_arm64.whl (1.7 MB)\n",
      "\u001b[2K   \u001b[90m━━━━━━━━━━━━━━━━━━━━━━━━━━━━━━━━━━━━━━━━\u001b[0m \u001b[32m1.7/1.7 MB\u001b[0m \u001b[31m6.3 MB/s\u001b[0m eta \u001b[36m0:00:00\u001b[0m00:01\u001b[0m00:01\u001b[0m\n",
      "\u001b[?25hDownloading networkx-3.2.1-py3-none-any.whl (1.6 MB)\n",
      "\u001b[2K   \u001b[90m━━━━━━━━━━━━━━━━━━━━━━━━━━━━━━━━━━━━━━━━\u001b[0m \u001b[32m1.6/1.6 MB\u001b[0m \u001b[31m6.2 MB/s\u001b[0m eta \u001b[36m0:00:00\u001b[0ma \u001b[36m0:00:01\u001b[0m\n",
      "\u001b[?25hInstalling collected packages: networkx, torch, torchvision, torchaudio\n",
      "Successfully installed networkx-3.2.1 torch-2.1.0 torchaudio-2.1.0 torchvision-0.16.0\n",
      "Note: you may need to restart the kernel to use updated packages.\n"
     ]
    }
   ],
   "source": [
    "%pip install torch torchvision torchaudio"
   ]
  },
  {
   "cell_type": "code",
   "execution_count": 2,
   "metadata": {},
   "outputs": [
    {
     "name": "stderr",
     "output_type": "stream",
     "text": [
      "/Users/carlogiuseppesergi/anaconda3/envs/interpreter/lib/python3.11/site-packages/tqdm/auto.py:21: TqdmWarning: IProgress not found. Please update jupyter and ipywidgets. See https://ipywidgets.readthedocs.io/en/stable/user_install.html\n",
      "  from .autonotebook import tqdm as notebook_tqdm\n"
     ]
    }
   ],
   "source": [
    "import assemblyai as aai\n",
    "from langchain.schema import (\n",
    "    SystemMessage\n",
    ")\n",
    "from langchain.chat_models import ChatOpenAI\n",
    "from langchain.chains import LLMChain\n",
    "from langchain.prompts import (\n",
    "    ChatPromptTemplate,\n",
    "    HumanMessagePromptTemplate,\n",
    "    MessagesPlaceholder\n",
    ")\n",
    "from langchain.schema import SystemMessage\n",
    "from langchain.chat_models import ChatOpenAI\n",
    "from langchain.llms import OpenAI\n",
    "from langchain.memory import ConversationBufferMemory, ConversationSummaryBufferMemory\n",
    "\n",
    "from transformers import AutoTokenizer, AutoModelForSequenceClassification\n",
    "\n",
    "\n",
    "import torch\n",
    "import re\n",
    "from IPython.display import display, Markdown\n",
    "\n",
    "\n",
    "\n",
    "aai.settings.api_key = \"<api key>\"\n"
   ]
  },
  {
   "cell_type": "code",
   "execution_count": 3,
   "metadata": {},
   "outputs": [],
   "source": [
    "tokenizer = AutoTokenizer.from_pretrained(\"mrsinghania/asr-question-detection\")\n",
    "\n",
    "classificator = AutoModelForSequenceClassification.from_pretrained(\"mrsinghania/asr-question-detection\")"
   ]
  },
  {
   "cell_type": "code",
   "execution_count": 4,
   "metadata": {},
   "outputs": [],
   "source": [
    "# Utilizza il tokenizer per preparare i dati per il modello\n",
    "\n",
    "def predict_question(text):\n",
    "    inputs = tokenizer(text, return_tensors=\"pt\")\n",
    "    outputs = classificator(**inputs)\n",
    "    predictions = outputs[0]\n",
    "    probabilities = torch.nn.functional.softmax(predictions, dim=-1)\n",
    "    predicted_class = torch.argmax(probabilities)\n",
    "    return 'SENTENCE' if predicted_class == 0 else 'QUESTION'\n",
    "\n"
   ]
  },
  {
   "cell_type": "code",
   "execution_count": 5,
   "metadata": {},
   "outputs": [
    {
     "name": "stdout",
     "output_type": "stream",
     "text": [
      "SENTENCE\n",
      "QUESTION\n",
      "SENTENCE\n"
     ]
    }
   ],
   "source": [
    "print(predict_question('Hello'))\n",
    "print(predict_question('How are you?'))\n",
    "print(predict_question(''))\n"
   ]
  },
  {
   "cell_type": "code",
   "execution_count": 6,
   "metadata": {},
   "outputs": [],
   "source": [
    "#seleziona solo domande\n",
    "model = ChatOpenAI(temperature=0, model='gpt-3.5-turbo')\n",
    "#model = Ollama(model=\"mistral\")\n",
    "\n",
    "template = '''\n",
    "You are a job interview assistan AI, you help the human with the job question, \n",
    "you are expert on IT and Software engineer and you should answer in very short way with a list, with the keys point.\n",
    "\n",
    "EXAMPLE 1\n",
    "Human: Could you explain me the SOLID principle?\n",
    "\n",
    "IA:\n",
    "Sure, I believe you're referring to the SOLID principles of object-oriented programming. Here they are:\n",
    "\n",
    "1. **S - Single Responsibility Principle (SRP):**\n",
    "   - A class should have only one reason to change. It means a class should only have one job or responsibility.\n",
    "\n",
    "2. **O - Open/Closed Principle (OCP):**\n",
    "   - Software entities (classes, modules, functions, etc.) should be open for extension, but closed for modification. This means that a class should be easily extendable without modifying the class itself.\n",
    "\n",
    "3. **L - Liskov Substitution Principle (LSP):**\n",
    "   - Subtypes must be substitutable for their base types. This means that if a program is using a base class, it should be able to use any of its subclasses without the program knowing it.\n",
    "\n",
    "4. **I - Interface Segregation Principle (ISP):**\n",
    "   - Clients should not be forced to depend upon interfaces they do not use. This means that a class should not have to implement methods it doesn't use.\n",
    "\n",
    "5. **D - Dependency Inversion Principle (DIP):**\n",
    "   - High-level modules should not depend on low-level modules. Both should depend on abstractions. This means that one should \"depend upon abstractions, [not] concretions.\"\n",
    "\n",
    "EXAMPLE 2\n",
    "\n",
    "Human: What is React.js?\n",
    "\n",
    "IA: \n",
    "Sure, here are the key points about React.js:\n",
    "\n",
    "1. **JavaScript Library:** \n",
    "   - React.js is a JavaScript library developed by Facebook. It's used for building user interfaces, particularly for single-page applications.\n",
    "\n",
    "2. **Component-Based:**\n",
    "   - React allows developers to create large web applications which can change data, without reloading the page. The main purpose of React is to be fast, scalable, and simple.\n",
    "\n",
    "3. **Virtual DOM:**\n",
    "   - React creates an in-memory data structure cache, computes the resulting differences, and then updates the browser's displayed DOM efficiently. This allows a special feature called the 'Virtual DOM' that optimizes rendering and improves app performance.\n",
    "\n",
    "4. **Unidirectional Data Flow:**\n",
    "   - Data in React flows in a single direction which helps in maintaining control over it and helps in debugging and understanding the application.\n",
    "\n",
    "5. **JSX:**\n",
    "   - React uses JSX, a syntax extension for JavaScript, allowing mixing of HTML with JavaScript. This isn't required to use React, but it makes the code more readable and writeable.\n",
    "\n",
    "6. **React Native:**\n",
    "   - React can also render on the server using Node, and it can power native mobile apps using React Native, a separate platform that uses the principles of React to allow powerful native mobile app development.\n",
    "\n",
    "\n",
    "'''\n",
    "\n",
    "prompt = ChatPromptTemplate.from_messages([\n",
    "    SystemMessage(content=template), # The persistent system prompt\n",
    "    MessagesPlaceholder(variable_name=\"chat_history\"), # Where the memory will be stored.\n",
    "    HumanMessagePromptTemplate.from_template(\"{text}\"), # Where the human input will injected\n",
    "])\n",
    "memory = ConversationSummaryBufferMemory(memory_key=\"chat_history\", llm=OpenAI(), return_messages=True, max_token_limit=1000)\n",
    "\n",
    "\n",
    "\n",
    "conversation = LLMChain(\n",
    "    llm=model,\n",
    "    prompt=prompt,\n",
    "    memory=memory\n",
    ")\n",
    "def call_gpt(text):\n",
    " response = conversation.predict(text=text)\n",
    " return response\n",
    "#risponde alle domande"
   ]
  },
  {
   "cell_type": "code",
   "execution_count": 7,
   "metadata": {},
   "outputs": [
    {
     "name": "stdout",
     "output_type": "stream",
     "text": [
      "Sure, here are the key points about a database:\n",
      "\n",
      "1. **Data Storage:** \n",
      "   - A database is a structured collection of data that is organized and stored for easy access, retrieval, and management.\n",
      "\n",
      "2. **Data Management System:**\n",
      "   - It is managed by a Database Management System (DBMS), which provides tools and functions to create, modify, and query the data.\n",
      "\n",
      "3. **Structured Format:**\n",
      "   - Data in a database is organized into tables, which consist of rows (records) and columns (fields). This structured format allows for efficient storage and retrieval of data.\n",
      "\n",
      "4. **Data Integrity and Security:**\n",
      "   - Databases ensure data integrity by enforcing constraints and rules on the data. They also provide security features to protect sensitive information.\n",
      "\n",
      "5. **Data Manipulation:**\n",
      "   - DBMS allows users to manipulate the data through operations like inserting, updating, deleting, and querying data using SQL (Structured Query Language).\n",
      "\n",
      "6. **Scalability and Performance:**\n",
      "   - Databases can handle large amounts of data and support multiple users concurrently. They are designed to provide efficient and fast access to data.\n",
      "\n",
      "7. **Data Backup and Recovery:**\n",
      "   - Databases offer mechanisms for backing up and recovering data to prevent data loss in case of system failures or disasters.\n",
      "\n",
      "8. **Data Sharing and Collaboration:**\n",
      "   - Databases enable multiple users to access and share data simultaneously, facilitating collaboration and data consistency.\n",
      "Sure, here are the key points about the difference between a traditional database and Redis:\n",
      "\n",
      "1. **Data Model:**\n",
      "   - Traditional databases (e.g., relational databases) use a structured data model with tables, rows, and columns. Redis, on the other hand, uses a key-value data model, where data is stored as key-value pairs.\n",
      "\n",
      "2. **In-Memory Storage:**\n",
      "   - Redis is primarily an in-memory database, meaning that data is stored in RAM for fast access. Traditional databases typically store data on disk, although they may also use caching mechanisms for performance optimization.\n",
      "\n",
      "3. **Performance:**\n",
      "   - Due to its in-memory nature, Redis offers extremely fast read and write operations, making it suitable for use cases that require high-performance data access. Traditional databases may have slower performance due to disk I/O operations.\n",
      "\n",
      "4. **Data Persistence:**\n",
      "   - Redis provides options for data persistence, allowing data to be saved to disk periodically or continuously. Traditional databases typically have built-in mechanisms for data persistence.\n",
      "\n",
      "5. **Data Structure Support:**\n",
      "   - Redis supports various data structures such as strings, lists, sets, hashes, and sorted sets, providing more flexibility in data modeling. Traditional databases typically have a fixed schema and support relational data structures.\n",
      "\n",
      "6. **Scalability:**\n",
      "   - Redis is designed to be highly scalable and can handle large amounts of data and high traffic loads. Traditional databases may require additional configuration and optimization for scalability.\n",
      "\n",
      "7. **Use Cases:**\n",
      "   - Redis is commonly used for caching, real-time analytics, session management, and pub/sub messaging. Traditional databases are suitable for a wide range of applications, including transactional systems, data warehousing, and reporting.\n",
      "\n",
      "It's important to note that Redis and traditional databases are not mutually exclusive, and they can complement each other in different use cases.\n"
     ]
    }
   ],
   "source": [
    "response = call_gpt('What is a Database?')\n",
    "print(response)\n",
    "\n",
    "response = call_gpt('And the difference with Redis?')\n",
    "\n",
    "print(response)"
   ]
  },
  {
   "cell_type": "code",
   "execution_count": 8,
   "metadata": {},
   "outputs": [],
   "source": [
    "def is_sentence_complete(sentence):\n",
    "    # Cerca un carattere di punto, di punto esclamativo o di punto interrogativo alla fine della stringa\n",
    "    if re.search(r'[.!?]$', sentence):\n",
    "        return True\n",
    "    else:\n",
    "        return False"
   ]
  },
  {
   "cell_type": "code",
   "execution_count": 9,
   "metadata": {},
   "outputs": [
    {
     "name": "stdout",
     "output_type": "stream",
     "text": [
      "None\n",
      "A singleton class is a design pattern that restricts the instantiation of a class to a single object. Here are the key points about singleton classes:\n",
      "\n",
      "1. **Single Instance:**\n",
      "   - A singleton class allows only one instance of the class to be created and provides a global point of access to that instance.\n",
      "\n",
      "2. **Private Constructor:**\n",
      "   - To enforce the single instance rule, the constructor of a singleton class is made private, preventing direct instantiation of the class from outside.\n",
      "\n",
      "3. **Static Instance Method:**\n",
      "   - The singleton class provides a static method that returns the single instance of the class. This method is typically named `getInstance()`.\n",
      "\n",
      "4. **Lazy Initialization:**\n",
      "   - The instance of the singleton class is created lazily, i.e., only when the `getInstance()` method is called for the first time. This ensures efficient resource utilization.\n",
      "\n",
      "5. **Global Access:**\n",
      "   - Once the singleton instance is created, it can be accessed globally from anywhere in the codebase using the `getInstance()` method.\n",
      "\n",
      "6. **Common Use Cases:**\n",
      "   - Singleton classes are commonly used in scenarios where there should be only one instance of a class, such as managing a shared resource, logging, database connections, configuration settings, and thread pools.\n",
      "\n",
      "It's worth noting that the singleton pattern has its pros and cons, and its usage should be carefully considered based on the specific requirements and design considerations of the application.\n"
     ]
    }
   ],
   "source": [
    "def process_transcript(transcript):\n",
    "    if transcript.strip() and is_sentence_complete(transcript):\n",
    "        # Split transcript into sentences based on punctuation marks.\n",
    "        sentences = re.split(r'[.?!]', transcript)\n",
    "        \n",
    "        for sentence in sentences:\n",
    "            sentence = sentence.strip()  # remove leading/trailing whitespace\n",
    "            if sentence:  # to make sure sentence is not empty\n",
    "                question = predict_question(sentence)\n",
    "                if question == 'QUESTION':\n",
    "                    response = call_gpt(sentence)\n",
    "                    return response\n",
    "      \n",
    "print(process_transcript(' '))\n",
    "print(process_transcript('What is a singleton class?'))"
   ]
  },
  {
   "cell_type": "code",
   "execution_count": 12,
   "metadata": {},
   "outputs": [
    {
     "data": {
      "text/plain": [
       "'What is jsx.'"
      ]
     },
     "metadata": {},
     "output_type": "display_data"
    },
    {
     "data": {
      "text/markdown": [
       "\n",
       "\n",
       "\n",
       "In React, the Virtual DOM (Document Object Model) is a lightweight copy of the actual DOM. It is a JavaScript representation of the HTML structure of your application. \n",
       "\n",
       "Here are the key points about the Virtual DOM in React:\n",
       "\n",
       "1. **Efficient Rendering:** React uses the Virtual DOM to efficiently update and render components. When there is a change in the state or props of a component, React creates a new Virtual DOM tree and compares it with the previous one to identify the minimal set of changes needed to update the actual DOM.\n",
       "\n",
       "2. **Optimized Updates:** By comparing the Virtual DOM trees, React determines the specific changes that need to be made to the actual DOM. It then applies these changes in a batch update, minimizing the number of DOM manipulations and improving performance.\n",
       "\n",
       "3. **Faster Rendering:** The Virtual DOM allows React to perform updates in memory, rather than directly manipulating the actual DOM. This results in faster rendering and improved overall performance of the application.\n",
       "\n",
       "4. **Reconciliation:** React's reconciliation algorithm efficiently updates the Virtual DOM and reconciles it with the actual DOM. It identifies the differences between the two and updates only the necessary parts, reducing the amount of work required for rendering.\n",
       "\n",
       "5. **Developer-Friendly:** The Virtual DOM provides a simplified programming model for developers. They can work with a virtual representation of the DOM, which is easier to manipulate and reason about, without directly interacting with the actual DOM.\n",
       "\n",
       "Overall, the Virtual DOM in React helps optimize rendering, improve performance, and simplify the development process by providing an efficient and developer-friendly way to update and manipulate the DOM.\n",
       "\n",
       "\n",
       "I'm sorry, but I'm not familiar with the term \"jj\" in the context of IT or software engineering. It could be an abbreviation or acronym specific to a certain domain or technology. If you can provide more context or clarify what \"jj\" refers to, I'll do my best to assist you.\n",
       "\n",
       "\n",
       "JSX stands for JavaScript XML. It is a syntax extension for JavaScript that allows you to write HTML-like code within JavaScript. JSX is primarily used in React to define the structure and appearance of components.\n",
       "\n",
       "Here are the key points about JSX:\n",
       "\n",
       "1. **HTML-like Syntax:** JSX resembles HTML syntax, allowing you to write familiar HTML tags and attributes directly in your JavaScript code.\n",
       "\n",
       "2. **Combining JavaScript and HTML:** JSX allows you to embed JavaScript expressions within curly braces {} directly in the HTML-like code. This enables dynamic rendering and manipulation of data.\n",
       "\n",
       "3. **Component-Based Structure:** JSX is used to define the structure and appearance of React components. Each JSX element represents a React component or HTML element.\n",
       "\n",
       "4. **Transpilation:** JSX code needs to be transpiled into regular JavaScript code before it can be executed in the browser. Tools like Babel are commonly used to convert JSX into JavaScript that the browser can understand.\n",
       "\n",
       "5. **Readability and Maintainability:** JSX improves code readability by providing a declarative and intuitive way to describe the UI structure. It also helps maintain a clear separation between the UI and logic.\n",
       "\n",
       "Overall, JSX is a powerful feature in React that allows developers to write HTML-like code within JavaScript, making it easier to build and manage complex user interfaces."
      ],
      "text/plain": [
       "<IPython.core.display.Markdown object>"
      ]
     },
     "metadata": {},
     "output_type": "display_data"
    },
    {
     "name": "stdout",
     "output_type": "stream",
     "text": [
      "Session ID: d42ae2b0-ce8f-4a5f-93f3-d58f9a27993e\n",
      "Closing Session\n"
     ]
    }
   ],
   "source": [
    "subtitle_area = display(\"\", display_id=True)\n",
    "output_area = display(\"\", display_id=True)\n",
    " \n",
    "# create variable to hold history of messages\n",
    "output_history = \"\"\n",
    "\n",
    "def on_open(session_opened: aai.RealtimeSessionOpened):\n",
    "  \"This function is called when the connection has been established.\"\n",
    "  print(\"Session ID:\", session_opened.session_id)\n",
    "\n",
    "def on_data(transcript: aai.RealtimeTranscript):\n",
    "  \"This function is called when a new transcript has been received.\"\n",
    "\n",
    "  global subtitle_history, output_history\n",
    "\n",
    "  if not transcript.text:\n",
    "    return\n",
    "\n",
    "  if isinstance(transcript, aai.RealtimeFinalTranscript):\n",
    "    # accumulate the transcript text\n",
    "    subtitle_area.update(transcript.text)\n",
    "    response = process_transcript(transcript.text)\n",
    "    if response != None:\n",
    "      # accumulate the response\n",
    "      output_history += \"\\n\\n\\n\" + response\n",
    "      output_area.update(Markdown(output_history))\n",
    "  else:\n",
    "    # accumulate the transcript text\n",
    "    subtitle_area.update(transcript.text)\n",
    "    # response = process_transcript(transcript.text)\n",
    "    # if response != None:\n",
    "    #   #accumulate the response\n",
    "    #   output_history += \"\\n\" + response\n",
    "    #   output_area.update(Markdown(output_history))\n",
    "\n",
    "def on_error(error: aai.RealtimeError):\n",
    "  \"This function is called when the connection has been closed.\"\n",
    "\n",
    "  print(\"An error occured:\", error)\n",
    "\n",
    "def on_close():\n",
    "  \"This function is called when the connection has been closed.\"\n",
    "\n",
    "  print(\"Closing Session\")\n",
    "  \n",
    "transcriber = aai.RealtimeTranscriber(\n",
    "  on_data=on_data,\n",
    "  on_error=on_error,\n",
    "  sample_rate=44_100,\n",
    "  on_open=on_open, # optional\n",
    "  on_close=on_close, # optional\n",
    ")\n",
    "\n",
    "# Start the connection\n",
    "transcriber.connect()\n",
    "\n",
    "# Open a microphone stream\n",
    "microphone_stream = aai.extras.MicrophoneStream()\n",
    "\n",
    "# Press CTRL+C to abort\n",
    "transcriber.stream(microphone_stream)\n",
    "\n",
    "transcriber.close()"
   ]
  }
 ],
 "metadata": {
  "kernelspec": {
   "display_name": "metagpt",
   "language": "python",
   "name": "python3"
  },
  "language_info": {
   "codemirror_mode": {
    "name": "ipython",
    "version": 3
   },
   "file_extension": ".py",
   "mimetype": "text/x-python",
   "name": "python",
   "nbconvert_exporter": "python",
   "pygments_lexer": "ipython3",
   "version": "3.11.5"
  },
  "orig_nbformat": 4
 },
 "nbformat": 4,
 "nbformat_minor": 2
}
